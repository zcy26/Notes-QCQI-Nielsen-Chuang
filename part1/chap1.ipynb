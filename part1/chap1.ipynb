{
 "cells": [
  {
   "cell_type": "markdown",
   "metadata": {},
   "source": [
    "<font size = 8> Introduction </font>"
   ]
  },
  {
   "cell_type": "markdown",
   "metadata": {},
   "source": [
    "# Keywords\n",
    "## 1.2 Quamtum bits\n",
    "qubit, computational basis, Bloch sphere.\n",
    "\n",
    "## 1.3 Quantum computation\n",
    "1. quantum gates: unitary operation, Hadamard gate, decomposition of single qubit operations, controlled gates, CNOT gate.\n",
    "2. quantum circuits: acyclic, forbidding FANIN and FANOUT, contolled-U gate. no-cloning theorem.\n",
    "\n",
    "## 1.4 Quantum algorithms\n",
    "1. classical computation: Toffoli gate.\n",
    "2. quantum parallelism: quantum parallelistm, Hadarmard transform, Deutsch's algorithm, Deutsch-Josza algorithm (Deutcsh's problem).\n",
    "3. qunatum algorithms: quantum Fourier transform, quantum search algorithm, quantum simulation.\n",
    "\n",
    "\n",
    "Sections not read yet: 1.3.6, 1.3.7, 1.5, 1.6."
   ]
  }
 ],
 "metadata": {
  "language_info": {
   "name": "python"
  }
 },
 "nbformat": 4,
 "nbformat_minor": 2
}
