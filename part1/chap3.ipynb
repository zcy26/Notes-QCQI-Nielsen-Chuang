{
 "cells": [
  {
   "cell_type": "markdown",
   "metadata": {},
   "source": [
    "# 3.1 Models for computation\n",
    "## Key words\n",
    "1. Turing machines:\n",
    "    1. program: program lines.\n",
    "    2. finite state constrol - starting state, halting state.\n",
    "    3. tape.\n",
    "    4. read-write tape-head.\n",
    "2. Church-Turing thesis, the universal Turing machine, the halting problem.\n",
    "3. Circuits:\n",
    "    1. wires and gates (logical gate); acyclic circuits.\n",
    "    2. NOT, AND, OR, XOR, NAND, NOR.\n",
    "    3. FANOUT, CROSSOVER, ancilla bits / work bits.\n",
    "    4. uniform circuit family."
   ]
  }
 ],
 "metadata": {
  "kernelspec": {
   "display_name": "quantComp",
   "language": "python",
   "name": "python3"
  },
  "language_info": {
   "name": "python",
   "version": "3.10.13"
  }
 },
 "nbformat": 4,
 "nbformat_minor": 2
}
