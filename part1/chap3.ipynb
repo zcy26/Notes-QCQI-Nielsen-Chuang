{
 "cells": [
  {
   "cell_type": "markdown",
   "metadata": {},
   "source": [
    "<font size = 8> Intro to CS </font>\n",
    "\n",
    "# Key words\n",
    "\n",
    "## 3.1 Models for computation\n",
    "1. Turing machines:\n",
    "    1. program: program lines.\n",
    "    2. finite state constrol - starting state, halting state.\n",
    "    3. tape.\n",
    "    4. read-write tape-head.\n",
    "2. Church-Turing thesis, the universal Turing machine, the halting problem.\n",
    "3. Circuits:\n",
    "    1. wires and gates (logical gate); acyclic circuits; boolean functions.\n",
    "    2. NOT, AND, OR, XOR, NAND, NOR.\n",
    "    3. FANOUT, CROSSOVER, ancilla bits / work bits.\n",
    "    4. uniform circuit family.\n",
    "\n",
    "## 3.2 The analysis of computationa problems\n",
    "1. asymptotic notation.\n",
    "2. computational complexity: computational complexity, polynomial, exponential; strong Church-Turing thesis (probabilistic Turing machines).\n",
    "3. complexity classes:\n",
    "    1. problem type: decision problems, formal languages (language, alphabet). Language decided by a Turing machine (accepted / rejected).\n",
    "    2. complexity classes: complexity classes, TIME(f(n)), P, NP (witness); the $P\\neq NP$ problem.\n",
    "    3. example: factoring problem (NP), Hamiltonian cycle problem (HC, NP-complete), Euler cycle problem (EC, P)\n",
    "    4. reduction of a decision problem to another, complete problems of a complexity class (e.g., NP-complete).\n",
    "    5. NP-c problems: Cook-Levin theorem (circuit satisfiability probpem, CSAT), SAT, 3-SAT (3-conjunctive normal form, 3-CNF).\n",
    "    6. Other complexity class: log-space L, PSPACE, exp-time EXP; $L \\subseteq P \\subseteq NP \\subseteq NP \\subseteq PSPACE \\subseteq EXP$; time hierarchy theorem, space hierachy theorem; approximate / probabilistic solution - BPP (bounded-error probabilistic time, \"efficently solvable\").\n",
    "4. energy:\n",
    "    1. ireversible / reversible logic gate; information erasure; Landauer's principle.\n",
    "    2. reversible computation:\n",
    "        1. garbage bits, uncomputation, the reversible circuit computing $f$: $(x,0,0,y)\\xrightarrow[CNOT]{f} (x,f(x),g(x),y) \\xrightarrow{CNOT} (x,f(x),g(x),y\\oplus f(x))\\rightarrow (x,0,0,y\\oplus f(x))$.\n",
    "        2. reversible universal logic gate:\n",
    "            1. Fredkin gate (billiard ball computer, conservation).\n",
    "            2. Toffoli gate (CCNOT).\n",
    "\n",
    "Sections not read yet: 3.3"
   ]
  },
  {
   "cell_type": "markdown",
   "metadata": {},
   "source": []
  },
  {
   "cell_type": "markdown",
   "metadata": {},
   "source": []
  }
 ],
 "metadata": {
  "kernelspec": {
   "display_name": "quantComp",
   "language": "python",
   "name": "python3"
  },
  "language_info": {
   "name": "python",
   "version": "3.10.13"
  }
 },
 "nbformat": 4,
 "nbformat_minor": 2
}
