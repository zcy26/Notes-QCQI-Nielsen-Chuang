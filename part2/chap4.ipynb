{
 "cells": [
  {
   "cell_type": "markdown",
   "metadata": {},
   "source": [
    "<font size=8> Quantum circuits </font>"
   ]
  },
  {
   "cell_type": "markdown",
   "metadata": {},
   "source": [
    "# Keywords\n",
    "## 4.2 Single qubit operations\n",
    "1. commonly used gates:\n",
    "    1. Pauli X (Not), Y, Z gates.\n",
    "    2. the Hdamard gate (H), the phase gate (S), the $\\pi/8$ gate (T).\n",
    "    3. Rotation operators. (exponential form / trigonometric function form)\n",
    "2. useful theorems and properites:\n",
    "    1. Rotation in Blosh sphere.\n",
    "    2. Z-Y / Z-X decomposition of unitary operators; corollary (phase * AXBXC with ABC=1).\n",
    "    3. circuit identites H(X,Y,Z)H."
   ]
  },
  {
   "cell_type": "markdown",
   "metadata": {},
   "source": [
    "# Solution\n",
    "\n",
    "## 4.2\n",
    "**Excercise 4.1**: In Exercise 2.11, which you should do now if you haven’t already done it, you computed the eigenvectors of the Pauli matrices. Find the points on the Bloch sphere which correspond to the normalized eigenvectors of the different Pauli matrices.\n",
    "\n",
    "*Solution.* The intersection of x,y,z axes and the sphere.\n",
    "\n",
    "<br/>\n",
    "\n",
    "**Excercise 4.2**: Let x be a real number and A a matrix such that $A^2 = I$. Show that $$\\exp(iAx)=\\cos(x)I+i\\sin(x)A.$$ Use this result to verify Equations (4.4) through (4.6).\n",
    "\n",
    "*Solution.* Since $A^2=I$, $A^{2n}=I$ for all $n\\in \\mathbb{Z}_+$. Using the definition of the exponential, we get:\n",
    "$$\\begin{aligned}\n",
    "LHS=\\exp(iAx)&=\\sum_{k=0}^{\\infty} \\frac{1}{k!}(iAx)^k = \\sum_{n=0}^{\\infty} \\left[\\frac{1}{(2n)!} (iAx)^{2n}+\\frac{1}{(2n+1)!} (iAx)^{2n+1}\\right]\\\\\n",
    "&=\\sum_{n=0}^{\\infty} \\frac{(-1)^n}{(2n)!}x^{2n}I + i\\sum_{n=0}^{\\infty} \\frac{(-1)^n}{(2n+1)!}x^{2n+1}A=RHS,\n",
    "\\end{aligned}$$\n",
    "where the last equality is due to the definition of sin and cos. The verification is trivial.\n",
    "\n",
    "<br/>\n",
    "\n",
    "**Excercise 4.6**: (Bloch sphere interpretation of rotations) One reason why the $R_{\\hat{n}}(\\theta)$ operators are referred to as rotation operators is the following fact, which you are to prove. Suppose a single qubit has a state represented by the Bloch vector $\\vec{\\lambda}$. Then the effect of the rotation $R_{\\hat{n}}(\\theta)$ on the state is to rotate it by an angle $\\theta$ about the $n$ axis of the Bloch sphere. This fact explains the rather mysterious looking factor of two in the definition of the rotation matrices.\n",
    "\n",
    "*Solution.* A detailed proof is omitted here. The idea is to choose the the state vector corresponding to $\\vec{\\lambda}$ and $-\\vec{\\lambda}$ as basis, and reduce the rotation to a rotation about the z axis.\n",
    "<!-- Boloch sphere representation reads $|\\psi\\rangle = (\\cos{\\frac{\\theta}{2}}) |0\\rangle + (e^{i\\phi}\\sin{\\frac{\\theta}{2}})|1\\rangle$.  -->\n",
    "\n",
    "<br/>\n",
    "\n",
    "**Excercise 4.8**: An arbitrary single qubit unitary operator can be written in the form $U = \\exp(i\\alpha)R_{\\hat{n}}(\\theta)$ for some real numbers $\\alpha$ and $\\theta$, and a real three-dimensional unit vector $\\hat{n}$.\n",
    "1. Prove this fact.\n",
    "2. Find the values of $\\alpha$, $\\hat{n}$ and $\\theta$ for the Hadamard gate and the phase gate.\n",
    "\n",
    "*Solution.*\n",
    "1. This problem is actually esbalishing the relationship between the group $U(2)$ and $SO(3)$. It is well known that there is a homomorphism between $SU(2)$ and $SO(3)$. For an elment $u$ in $U(2)$, since $uu^{\\dagger}=1$, there is $|\\det(u)|^2=1$. Therefore, given a unitary operator $u$, first find its determinant $\\det(u)=e^{2\\alpha}$, then $e^{-\\alpha}u$ has derterminant 1, and is thus an element of $SU(2). One can then find a rotation $R_{\\hat{n}}(\\theta)$ corresponding to it, then $u=e^{i\\alpha}R_{\\hat{n}}(\\theta)$. Actually theorem 4.1 gives such an decomposition through Euler angles.\n",
    "2. Yet to be done.\n",
    "\n",
    "<br/>\n",
    "\n",
    "**Exercise 4.12**: Give A, B, C, and $\\alpha$ for the Hadamard gate. ($H=e^{i\\alpha}AXBXC$).\n",
    "\n",
    "*Solution*. In the Z-Y decomposition of the Hadamard gate, it is evident that $\\alpha=\\pi/2$, $\\beta=0$, $\\delta=\\pi$, $\\gamma=\\pi/2$. The decomposition into ABC then follows trivially.\n",
    "\n",
    "<br/>\n",
    "\n",
    "**Exercise 4.15: (Composition of single qubit operations)** (Figuring out the overall rotation axis and angle of the composition of two rotations).\n",
    "\n",
    "*Solution.* Use the $R_{\\hat{n}}=c-is(\\hat{n}\\cdot\\vec{\\sigma})$. The calculation is omitted here. Note that the $\\exp(A)\\exp(B)\\neq \\exp(A+B)$ for operators (unless $[A,B]=0$)! (See the BCH formula)."
   ]
  }
 ],
 "metadata": {
  "kernelspec": {
   "display_name": "quantComp",
   "language": "python",
   "name": "python3"
  },
  "language_info": {
   "name": "python",
   "version": "3.10.13"
  }
 },
 "nbformat": 4,
 "nbformat_minor": 2
}
