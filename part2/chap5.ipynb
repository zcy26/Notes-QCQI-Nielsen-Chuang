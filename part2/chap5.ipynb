{
 "cells": [
  {
   "cell_type": "markdown",
   "metadata": {},
   "source": [
    "<font size=8>Quantum Fourier Transform</font>"
   ]
  },
  {
   "cell_type": "code",
   "execution_count": 2,
   "metadata": {},
   "outputs": [],
   "source": [
    "import numpy as np\n",
    "from matplotlib import pyplot as plt\n",
    "import qiskit\n",
    "%config InlineBackend.figure_format=\"svg\""
   ]
  },
  {
   "cell_type": "markdown",
   "metadata": {},
   "source": [
    "# Keywords\n",
    "\n",
    "## 5.1 Quantum Fourier Transform\n",
    "Discrete Fourier Transofrm, Quantum Fourier Transform, product representation and implementation.\n",
    "\n",
    "## 5.2 Phase Estimation\n",
    "Phase estimation,\n",
    "1. consititution.: t register, u register, black box.\n",
    "2. procedure: superpositio (H gates), black box, inverse QFT, measusrement.\n",
    "3. $t=n+\\lceil\\log(2+\\frac{1}{2\\epsilon})\\rceil$ to obtain $\\phi$ in $n$ bits with probability $\\geq 1-\\epsilon$.\n",
    "\n",
    "Not read yet: 5.3.1 (only skim through), 5.3, 5.4"
   ]
  },
  {
   "cell_type": "markdown",
   "metadata": {},
   "source": [
    "# Solutions\n",
    "\n",
    "## 5.1\n",
    "**Exercise 5.4**: Give a decomposition of the controlled-Rk gate into single qubit and CNOT gates.\n",
    "\n",
    "*Solution*. To decompose $$R_k = \\begin{bmatrix}1 &0 \\\\ 0 &e^{2\\pi i / 2^k}  \\end{bmatrix},$$\n",
    "We may use the Z-X decomposition and its corollary stated in theorem 4.1. First, $R_k$ can be Z-X decomposed into $R_k=e^{i\\alpha}R_z(\\beta)R_y(\\gamma)R_z(\\delta)$ with $\\alpha = 2\\pi / 2^{k+1}$, $\\gamma = 0$ and $\\delta = 2\\pi/2^k$. We can further decompose it into $U=e^{i\\alpha} AXBXC$ with $A=I$, $B=R_z(-2\\pi / 2^{k+1})$, $C=R_z(2\\pi / 2^{k+1})$. The controlled gate is then given by $$\\mathrm{C}R_k = e^{i\\alpha}(\\mathrm{CX})B(\\mathrm{CX})C,$$ where $\\mathrm{CX}$ is the CNOT gate. Of course, in qiskit this gate is directly supported supported."
   ]
  },
  {
   "cell_type": "code",
   "execution_count": 7,
   "metadata": {},
   "outputs": [
    {
     "data": {
      "text/plain": [
       "Instruction(name='cp', num_qubits=2, num_clbits=0, params=[1.5707963267948966])"
      ]
     },
     "execution_count": 7,
     "metadata": {},
     "output_type": "execute_result"
    }
   ],
   "source": [
    "from qiskit.circuit.library import CPhaseGate\n",
    "CP2 = CPhaseGate(2 * np.pi / 2**2)\n",
    "CP2"
   ]
  }
 ],
 "metadata": {
  "kernelspec": {
   "display_name": "quantComp",
   "language": "python",
   "name": "python3"
  },
  "language_info": {
   "codemirror_mode": {
    "name": "ipython",
    "version": 3
   },
   "file_extension": ".py",
   "mimetype": "text/x-python",
   "name": "python",
   "nbconvert_exporter": "python",
   "pygments_lexer": "ipython3",
   "version": "3.10.13"
  }
 },
 "nbformat": 4,
 "nbformat_minor": 2
}
